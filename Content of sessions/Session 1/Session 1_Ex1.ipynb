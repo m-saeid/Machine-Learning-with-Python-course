{
  "nbformat": 4,
  "nbformat_minor": 0,
  "metadata": {
    "colab": {
      "provenance": []
    },
    "kernelspec": {
      "name": "python3",
      "display_name": "Python 3"
    },
    "language_info": {
      "name": "python"
    }
  },
  "cells": [
    {
      "cell_type": "markdown",
      "source": [
        "# تمرین 1"
      ],
      "metadata": {
        "id": "ZXLBxXtQll1Z"
      }
    },
    {
      "cell_type": "markdown",
      "source": [
        "داده‌های زیر مربوط به قیمت یک مدل خودرو بر اساس مدل آن است:\n",
        "\n",
        "مدل خودرو:\n",
        "x = [70, 90, 80, 65, 97, 75]\n",
        "\n",
        "قیمت خودرو\n",
        "y = [120, 190, 145, 110, 200, 135]\n",
        "\n",
        "(داده‌ها نظیر به نظیر متناظر هستند)"
      ],
      "metadata": {
        "id": "KR0t-M77lo2_"
      }
    },
    {
      "cell_type": "markdown",
      "source": [
        "# سوالات"
      ],
      "metadata": {
        "id": "RR-Q63hYmYNB"
      }
    },
    {
      "cell_type": "markdown",
      "source": [
        "داده‌ها را روی نمودار رسم کنید"
      ],
      "metadata": {
        "id": "8NLrGLYTmcEt"
      }
    },
    {
      "cell_type": "code",
      "source": [],
      "metadata": {
        "id": "wi8qEXuqmbGN"
      },
      "execution_count": null,
      "outputs": []
    },
    {
      "cell_type": "markdown",
      "source": [
        "یک مدل یادگیری ماشین خطی برای آموزش داده ها ایجاد و آموزش دهید"
      ],
      "metadata": {
        "id": "YUVgg6A1mivX"
      }
    },
    {
      "cell_type": "code",
      "source": [],
      "metadata": {
        "id": "7RPNcmusmosT"
      },
      "execution_count": null,
      "outputs": []
    },
    {
      "cell_type": "markdown",
      "source": [
        "برای یک خودرو با مدل 88 قیمت آن را پیش بینی کنید"
      ],
      "metadata": {
        "id": "9wN9XVVLmpYY"
      }
    },
    {
      "cell_type": "code",
      "source": [],
      "metadata": {
        "id": "50nwz4slm0uD"
      },
      "execution_count": null,
      "outputs": []
    },
    {
      "cell_type": "markdown",
      "source": [
        "داده‌ها و خط فیت شده روی داده‌ها را رسم کنید"
      ],
      "metadata": {
        "id": "ZjhqCTTrm1PV"
      }
    },
    {
      "cell_type": "code",
      "source": [],
      "metadata": {
        "id": "Ov28J5HqnLOL"
      },
      "execution_count": null,
      "outputs": []
    }
  ]
}