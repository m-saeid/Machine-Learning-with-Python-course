{
  "cells": [
    {
      "cell_type": "markdown",
      "metadata": {
        "id": "U0rkwG6eSNto"
      },
      "source": [
        "# **Machien Learning with Python**\n",
        "#### Course 1 - week 1 - session 2"
      ]
    },
    {
      "cell_type": "markdown",
      "metadata": {
        "id": "RdGCSgGAHiV-"
      },
      "source": [
        "## Computing Cost\n",
        "\n",
        "The equation for cost with one variable is:\n",
        "  $$J(w,b) = \\frac{1}{2m} \\sum\\limits_{i = 0}^{m-1} (f_{w,b}(x^{(i)}) - y^{(i)})^2 \\tag{1}$$\n",
        "\n",
        "where\n",
        "  $$f_{w,b}(x^{(i)}) = wx^{(i)} + b \\tag{2}$$\n",
        "  \n",
        "- $f_{w,b}(x^{(i)})$ : is our prediction for example $i$ using parameters $w,b$.\n",
        "- $(f_{w,b}(x^{(i)}) -y^{(i)})^2$ is the squared difference between the target value and the prediction.   "
      ]
    },
    {
      "cell_type": "code",
      "execution_count": null,
      "metadata": {
        "id": "im18XrS6Au99"
      },
      "outputs": [],
      "source": [
        "def compute_cost(x, y, w, b):\n",
        "\n",
        "    m = x.shape[0] # number of training examples\n",
        "\n",
        "    cost_sum = 0\n",
        "    for i in range(m):\n",
        "        f_wb = w * x[i] + b\n",
        "        cost = (f_wb - y[i]) ** 2\n",
        "        cost_sum = cost_sum + cost\n",
        "    total_cost = (1 / (2 * m)) * cost_sum\n",
        "\n",
        "    return total_cost"
      ]
    }
  ],
  "metadata": {
    "colab": {
      "provenance": []
    },
    "kernelspec": {
      "display_name": "Python 3",
      "name": "python3"
    },
    "language_info": {
      "name": "python"
    }
  },
  "nbformat": 4,
  "nbformat_minor": 0
}
