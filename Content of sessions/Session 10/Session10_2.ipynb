{
  "nbformat": 4,
  "nbformat_minor": 0,
  "metadata": {
    "colab": {
      "provenance": [],
      "gpuType": "T4"
    },
    "kernelspec": {
      "name": "python3",
      "display_name": "Python 3"
    },
    "language_info": {
      "name": "python"
    },
    "accelerator": "GPU"
  },
  "cells": [
    {
      "cell_type": "markdown",
      "source": [
        "# **Classification(overfit and regularization !)**"
      ],
      "metadata": {
        "id": "Knm8c0M2fgFS"
      }
    },
    {
      "cell_type": "code",
      "source": [
        "import numpy as np\n",
        "import matplotlib.pyplot as plt"
      ],
      "metadata": {
        "id": "2WLNxrSCR-cj"
      },
      "execution_count": 63,
      "outputs": []
    },
    {
      "cell_type": "code",
      "source": [
        "X = np.array([ [1,2] , [1.5,2], [0.5,0.5] , [1.5,1.5] , [3.5,3.7] , [4,4] , [3,3.5] , [4,3] , [5,5]])\n",
        "y = np.array( [0,0,0,0,1,1,1,1,1] )"
      ],
      "metadata": {
        "id": "cmXfDXfDSFjp"
      },
      "execution_count": 64,
      "outputs": []
    },
    {
      "cell_type": "code",
      "source": [
        "order = 3"
      ],
      "metadata": {
        "id": "C6syw6rqzNbO"
      },
      "execution_count": 65,
      "outputs": []
    },
    {
      "cell_type": "code",
      "source": [
        "def data_order(X, order):\n",
        "    X = np.c_[np.ones(len(X)), X]\n",
        "    for i in range(2, order+1):\n",
        "        X = np.c_[X, X[:,1]**i, X[:,2]**i]\n",
        "\n",
        "    return X\n",
        "\n",
        "X = data_order(X, order)\n",
        "print(X)"
      ],
      "metadata": {
        "colab": {
          "base_uri": "https://localhost:8080/"
        },
        "id": "lzy0ecM4yXl8",
        "outputId": "e08de883-6e2e-4541-e5c2-c78778bb1564"
      },
      "execution_count": 66,
      "outputs": [
        {
          "output_type": "stream",
          "name": "stdout",
          "text": [
            "[[  1.      1.      2.      1.      4.      1.      8.   ]\n",
            " [  1.      1.5     2.      2.25    4.      3.375   8.   ]\n",
            " [  1.      0.5     0.5     0.25    0.25    0.125   0.125]\n",
            " [  1.      1.5     1.5     2.25    2.25    3.375   3.375]\n",
            " [  1.      3.5     3.7    12.25   13.69   42.875  50.653]\n",
            " [  1.      4.      4.     16.     16.     64.     64.   ]\n",
            " [  1.      3.      3.5     9.     12.25   27.     42.875]\n",
            " [  1.      4.      3.     16.      9.     64.     27.   ]\n",
            " [  1.      5.      5.     25.     25.    125.    125.   ]]\n"
          ]
        }
      ]
    },
    {
      "cell_type": "code",
      "source": [
        "X.max(axis=0)"
      ],
      "metadata": {
        "colab": {
          "base_uri": "https://localhost:8080/"
        },
        "id": "6gJyWz3U0FUr",
        "outputId": "baee5384-cc45-4774-c5e5-cbd39f0f0850"
      },
      "execution_count": 67,
      "outputs": [
        {
          "output_type": "execute_result",
          "data": {
            "text/plain": [
              "array([  1.,   5.,   5.,  25.,  25., 125., 125.])"
            ]
          },
          "metadata": {},
          "execution_count": 67
        }
      ]
    },
    {
      "cell_type": "code",
      "source": [
        "def norm_data(X):\n",
        "    X /= X.max(axis=0)\n",
        "\n",
        "    return(X)\n",
        "\n",
        "X = norm_data(X)\n",
        "print(X)"
      ],
      "metadata": {
        "colab": {
          "base_uri": "https://localhost:8080/"
        },
        "id": "Y6jHsBbLz6t4",
        "outputId": "57cd8176-b197-482a-9387-de5c39666582"
      },
      "execution_count": 68,
      "outputs": [
        {
          "output_type": "stream",
          "name": "stdout",
          "text": [
            "[[1.       0.2      0.4      0.04     0.16     0.008    0.064   ]\n",
            " [1.       0.3      0.4      0.09     0.16     0.027    0.064   ]\n",
            " [1.       0.1      0.1      0.01     0.01     0.001    0.001   ]\n",
            " [1.       0.3      0.3      0.09     0.09     0.027    0.027   ]\n",
            " [1.       0.7      0.74     0.49     0.5476   0.343    0.405224]\n",
            " [1.       0.8      0.8      0.64     0.64     0.512    0.512   ]\n",
            " [1.       0.6      0.7      0.36     0.49     0.216    0.343   ]\n",
            " [1.       0.8      0.6      0.64     0.36     0.512    0.216   ]\n",
            " [1.       1.       1.       1.       1.       1.       1.      ]]\n"
          ]
        }
      ]
    },
    {
      "cell_type": "code",
      "source": [
        "def sigmoid(z):\n",
        "    return 1 / (1 + np.exp(-z))"
      ],
      "metadata": {
        "id": "g-jMHrJm0W-Z"
      },
      "execution_count": 69,
      "outputs": []
    },
    {
      "cell_type": "code",
      "source": [
        "w = np.zeros(len(X[0]))\n",
        "alpha = 0.01\n",
        "m = len(X)\n",
        "cost = []\n",
        "l = 1\n",
        "\n",
        "for epoch in range(10000):\n",
        "    y_hat = sigmoid(X.dot(w))\n",
        "    grad = (1/m) * X.T.dot(y_hat-y) + (l/m * w)\n",
        "    w -= alpha * grad\n",
        "\n",
        "    J = (-1/m) * ( y*np.log(y_hat) + (1-y)*np.log(1-y_hat) ).sum()+ (l/(2*m) * w.sum())\n",
        "    cost.append(J)\n",
        "\n",
        "plt.plot(cost)\n",
        "print(f'Last Cost: {cost[-1]}')"
      ],
      "metadata": {
        "colab": {
          "base_uri": "https://localhost:8080/",
          "height": 450
        },
        "id": "Zoue6PMmyXTD",
        "outputId": "0fd77028-6711-45ea-b141-cbdc4f7ca17a"
      },
      "execution_count": 70,
      "outputs": [
        {
          "output_type": "stream",
          "name": "stdout",
          "text": [
            "Last Cost: 0.5444567119904862\n"
          ]
        },
        {
          "output_type": "display_data",
          "data": {
            "text/plain": [
              "<Figure size 640x480 with 1 Axes>"
            ],
            "image/png": "[encoded data removed]"
          },
          "metadata": {}
        }
      ]
    },
    {
      "cell_type": "code",
      "source": [
        "'''\n",
        "y_hat = sigmoid(z)\n",
        "z = 0\n",
        "\n",
        "W.X = 0\n",
        "\n",
        "w0*x0 + w1*x1 + w2*x2 + w3*x1**2 + w4*x2**2 + w5*x1**3 + w6*x2**3 = 0\n",
        "x1 , wj : given\n",
        "x2 > ?\n",
        "'''\n",
        "\n",
        "def newton(f,Df,x0,epsilon,max_iter):\n",
        "    xn = x0\n",
        "    for n in range(0,max_iter):\n",
        "        fxn = f(xn)\n",
        "        if abs(fxn) < epsilon:\n",
        "            #print('Found solution after',n,'iterations.')\n",
        "            return xn\n",
        "        Dfxn = Df(xn)\n",
        "        if Dfxn == 0:\n",
        "            #print('Zero derivative. No solution found.')\n",
        "            return None\n",
        "        xn = xn - fxn/Dfxn\n",
        "    #print('Exceeded maximum iterations. No solution found.')\n",
        "    return None"
      ],
      "metadata": {
        "id": "vyHsXtlZ0zDv"
      },
      "execution_count": 71,
      "outputs": []
    },
    {
      "cell_type": "code",
      "source": [
        "'''\n",
        "y_hat = sigmoid(z)\n",
        "z = 0\n",
        "\n",
        "W.X = 0\n",
        "\n",
        "w0*x0 + w1*x1 + w2*x2 + w3*x1**2 + w4*x2**2 + w5*x1**3 + w6*x2**3 = 0\n",
        "x1 , wj : given\n",
        "x2 : ?\n",
        "'''\n",
        "\n",
        "X1 = np.linspace(min(X[:,1]), max(X[:,1]), 10000)\n",
        "\n",
        "# x2 > ?\n",
        "\n",
        "X2 = []\n",
        "for i in X1:\n",
        "    x1 = i\n",
        "    if order == 3:\n",
        "        p = lambda x2: w[0] + w[1]*x1 + w[2]*x2 + w[3]*x1**2 + w[4]*x2**2 + w[5]*x1**3 + w[6]*x2**3\n",
        "        Dp = lambda x2: w[2] + 2*w[4]*x2 + 3*w[6]*x2**2\n",
        "    elif order == 2:\n",
        "        p = lambda x2: w[0] + w[1]*x1 + w[2]*x2 + w[3]*x1**2 + w[4]*x2**2\n",
        "        Dp = lambda x2: w[2] + 2*w[4]*x2\n",
        "    X2.append(newton(p,Dp,1,1e-10,10000))\n",
        "\n",
        "plt.scatter(X[:,1], X[:,2])\n",
        "plt.plot(X1, X2, c='r')"
      ],
      "metadata": {
        "colab": {
          "base_uri": "https://localhost:8080/",
          "height": 447
        },
        "id": "J37eq79K3JfE",
        "outputId": "770cef8c-5d41-4b7b-ae1f-910215fe9442"
      },
      "execution_count": 72,
      "outputs": [
        {
          "output_type": "execute_result",
          "data": {
            "text/plain": [
              "[<matplotlib.lines.Line2D at 0x78c2e112ace0>]"
            ]
          },
          "metadata": {},
          "execution_count": 72
        },
        {
          "output_type": "display_data",
          "data": {
            "text/plain": [
              "<Figure size 640x480 with 1 Axes>"
            ],
            "image/png": "[encoded data removed]"
          },
          "metadata": {}
        }
      ]
    }
  ]
}