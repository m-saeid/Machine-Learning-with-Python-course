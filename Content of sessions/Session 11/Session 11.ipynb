{
 "cells": [
  {
   "cell_type": "code",
   "execution_count": 24,
   "id": "541a6d2a",
   "metadata": {},
   "outputs": [],
   "source": [
    "import numpy as np\n",
    "import pandas as pd\n",
    "from sklearn.datasets import load_iris\n",
    "from sklearn.model_selection import train_test_split\n",
    "from tqdm.notebook import tqdm\n",
    "from sklearn.metrics import accuracy_score\n",
    "from sklearn.metrics import confusion_matrix\n",
    "import matplotlib.pyplot as plt "
   ]
  },
  {
   "cell_type": "code",
   "execution_count": 10,
   "id": "4a8b0065",
   "metadata": {},
   "outputs": [],
   "source": [
    "df = load_iris()\n",
    "X = df.data[:,2:]\n",
    "y = df.target\n",
    "\n",
    "mu = X.mean(axis=0)\n",
    "s = np.std(X,axis=0)\n",
    "\n",
    "X_train, X_test, y_train, y_test = train_test_split(X, y, test_size=0.25, random_state=42)"
   ]
  },
  {
   "cell_type": "code",
   "execution_count": 11,
   "id": "fbd44504",
   "metadata": {},
   "outputs": [],
   "source": [
    "sigmoid = lambda z : 1/(1+np.exp(-z))"
   ]
  },
  {
   "cell_type": "code",
   "execution_count": 12,
   "id": "1d103a26",
   "metadata": {},
   "outputs": [],
   "source": [
    "def normalize(x):\n",
    "    return (x-mu)/s"
   ]
  },
  {
   "cell_type": "code",
   "execution_count": 19,
   "id": "9bd0bab3",
   "metadata": {},
   "outputs": [],
   "source": [
    "def fit_regression_logistic(X, y):\n",
    "    W = []\n",
    "    \n",
    "    tolerance = 1e-3\n",
    "    m = len(X)\n",
    "    X = np.c_[np.ones(m), normalize(X)]\n",
    "    \n",
    "    for c in np.unique(y):\n",
    "        y1 = pd.factorize(y==c,sort=True)[0].reshape(-1,1)\n",
    "        alpha = 0.1\n",
    "        w = np.zeros((X.shape[1],1))\n",
    "\n",
    "        for epoch in tqdm(range(1000000)):\n",
    "            y_hat = sigmoid(X.dot(w))\n",
    "\n",
    "            grad = X.T.dot(y_hat-y1)\n",
    "            w -= alpha*grad/m\n",
    "\n",
    "            if np.abs((alpha*grad).mean())<=tolerance:\n",
    "                break\n",
    "        W.append(w)\n",
    "    return W"
   ]
  },
  {
   "cell_type": "code",
   "execution_count": 17,
   "id": "92ec125b",
   "metadata": {},
   "outputs": [],
   "source": [
    "def predict(X):\n",
    "    X = np.c_[np.ones(X.shape[0]), normalize(X)]\n",
    "    return np.argmax(sigmoid(X.dot(W)), axis=1)"
   ]
  },
  {
   "cell_type": "code",
   "execution_count": 20,
   "id": "30c7af21",
   "metadata": {},
   "outputs": [
    {
     "data": {
      "application/vnd.jupyter.widget-view+json": {
       "model_id": "8d3589734c9e4536922179e3b68f56b5",
       "version_major": 2,
       "version_minor": 0
      },
      "text/plain": [
       "  0%|          | 0/1000000 [00:00<?, ?it/s]"
      ]
     },
     "metadata": {},
     "output_type": "display_data"
    },
    {
     "data": {
      "application/vnd.jupyter.widget-view+json": {
       "model_id": "7a47fbf48f5d492da3e7a18018a8561a",
       "version_major": 2,
       "version_minor": 0
      },
      "text/plain": [
       "  0%|          | 0/1000000 [00:00<?, ?it/s]"
      ]
     },
     "metadata": {},
     "output_type": "display_data"
    },
    {
     "data": {
      "application/vnd.jupyter.widget-view+json": {
       "model_id": "9182804b09be41718c152340e965d76b",
       "version_major": 2,
       "version_minor": 0
      },
      "text/plain": [
       "  0%|          | 0/1000000 [00:00<?, ?it/s]"
      ]
     },
     "metadata": {},
     "output_type": "display_data"
    }
   ],
   "source": [
    "W = fit_regression_logistic(X_train, y_train)"
   ]
  },
  {
   "cell_type": "code",
   "execution_count": 22,
   "id": "e8270a33",
   "metadata": {},
   "outputs": [
    {
     "name": "stdout",
     "output_type": "stream",
     "text": [
      "Accuracy train = 0.9553571428571429\n",
      "Accuracy test  = 1.0\n",
      "Confiusion matrix :\n",
      " [[50  0  0]\n",
      " [ 0 47  3]\n",
      " [ 0  2 48]]\n"
     ]
    }
   ],
   "source": [
    "print('Accuracy train =',accuracy_score(y_train, predict(X_train)))\n",
    "print('Accuracy test  =',accuracy_score(y_test, predict(X_test)))\n",
    "print('Confiusion matrix :\\n',confusion_matrix(y, predict(X)))"
   ]
  },
  {
   "cell_type": "code",
   "execution_count": 29,
   "id": "570b4830",
   "metadata": {},
   "outputs": [
    {
     "data": {
      "text/plain": [
       "<matplotlib.collections.PathCollection at 0x2251012cf10>"
      ]
     },
     "execution_count": 29,
     "metadata": {},
     "output_type": "execute_result"
    },
    {
     "data": {
      "image/png": "[encoded data removed]",
      "text/plain": [
       "<Figure size 640x480 with 1 Axes>"
      ]
     },
     "metadata": {},
     "output_type": "display_data"
    }
   ],
   "source": [
    "a = np.arange(X[:,0].min() - 1.0, X[:,0].max() + 1.0, 0.01)\n",
    "b = np.arange(X[:,1].min() - 1.0, X[:,1].max() + 1.0, 0.01)\n",
    "xx, yy = np.meshgrid(a, b)\n",
    "x_region = np.c_[xx.reshape(-1,1), yy.reshape(-1,1)]\n",
    "z = predict(x_region).reshape(xx.shape)\n",
    "\n",
    "plt.pcolormesh(xx, yy, z, cmap=plt.cm.Paired)\n",
    "plt.scatter(X[:,0], X[:,1], c=y)"
   ]
  }
 ],
 "metadata": {
  "kernelspec": {
   "display_name": "Python 3 (ipykernel)",
   "language": "python",
   "name": "python3"
  },
  "language_info": {
   "codemirror_mode": {
    "name": "ipython",
    "version": 3
   },
   "file_extension": ".py",
   "mimetype": "text/x-python",
   "name": "python",
   "nbconvert_exporter": "python",
   "pygments_lexer": "ipython3",
   "version": "3.10.9"
  }
 },
 "nbformat": 4,
 "nbformat_minor": 5
}
