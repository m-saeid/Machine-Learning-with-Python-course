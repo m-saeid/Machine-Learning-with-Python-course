{
  "nbformat": 4,
  "nbformat_minor": 0,
  "metadata": {
    "colab": {
      "provenance": [],
      "gpuType": "T4"
    },
    "kernelspec": {
      "name": "python3",
      "display_name": "Python 3"
    },
    "language_info": {
      "name": "python"
    },
    "accelerator": "GPU"
  },
  "cells": [
    {
      "cell_type": "markdown",
      "source": [
        "# Why Numpy"
      ],
      "metadata": {
        "id": "rmGloV5WY13f"
      }
    },
    {
      "cell_type": "code",
      "source": [
        "from random import randint\n",
        "import numpy as np"
      ],
      "metadata": {
        "id": "C0zNPaupY3_P"
      },
      "execution_count": 1,
      "outputs": []
    },
    {
      "cell_type": "code",
      "execution_count": 2,
      "metadata": {
        "id": "w-mbG6UaYafE"
      },
      "outputs": [],
      "source": [
        "X = [randint(0,10) for i in range(1000000)]\n",
        "W = [randint(0,10) for i in range(1000000)]\n",
        "b = randint(0,10)"
      ]
    },
    {
      "cell_type": "code",
      "source": [
        "W.append(b)\n",
        "X.append(1)"
      ],
      "metadata": {
        "id": "26-fl0qxbyJ3"
      },
      "execution_count": 3,
      "outputs": []
    },
    {
      "cell_type": "code",
      "source": [
        "def xw():\n",
        "    y = 0\n",
        "    for i in range(len(X)):\n",
        "        y += X[i] * W[i]\n",
        "    return y"
      ],
      "metadata": {
        "id": "kEkquQsVZq8m"
      },
      "execution_count": 4,
      "outputs": []
    },
    {
      "cell_type": "code",
      "source": [
        "xw()"
      ],
      "metadata": {
        "colab": {
          "base_uri": "https://localhost:8080/"
        },
        "id": "BreXGVKv4Pt1",
        "outputId": "d5ec367e-49cf-41e6-f842-d328dd96d518"
      },
      "execution_count": 5,
      "outputs": [
        {
          "output_type": "execute_result",
          "data": {
            "text/plain": [
              "24986905"
            ]
          },
          "metadata": {},
          "execution_count": 5
        }
      ]
    },
    {
      "cell_type": "code",
      "source": [
        "%timeit xw()"
      ],
      "metadata": {
        "colab": {
          "base_uri": "https://localhost:8080/"
        },
        "id": "fOC9fEPscmzl",
        "outputId": "6143ac37-4770-466d-aed4-ca7bddc1be06"
      },
      "execution_count": 6,
      "outputs": [
        {
          "output_type": "stream",
          "name": "stdout",
          "text": [
            "216 ms ± 103 ms per loop (mean ± std. dev. of 7 runs, 10 loops each)\n"
          ]
        }
      ]
    },
    {
      "cell_type": "code",
      "source": [
        "X = np.array(X)\n",
        "W = np.array(W)\n",
        "#b = np.array(b)"
      ],
      "metadata": {
        "id": "yDfyYpcdaTZu"
      },
      "execution_count": 7,
      "outputs": []
    },
    {
      "cell_type": "code",
      "source": [
        "X.dot(W)"
      ],
      "metadata": {
        "id": "R8bwKp6U4WeG",
        "outputId": "48c7967d-66ba-4da9-b57e-00d61e430921",
        "colab": {
          "base_uri": "https://localhost:8080/"
        }
      },
      "execution_count": 8,
      "outputs": [
        {
          "output_type": "execute_result",
          "data": {
            "text/plain": [
              "24986905"
            ]
          },
          "metadata": {},
          "execution_count": 8
        }
      ]
    },
    {
      "cell_type": "code",
      "source": [
        "%timeit X.dot(W)"
      ],
      "metadata": {
        "colab": {
          "base_uri": "https://localhost:8080/"
        },
        "id": "r9n7RS4LaiPy",
        "outputId": "78a68737-8f02-4263-cb35-d9b2b6bd7fcf"
      },
      "execution_count": 9,
      "outputs": [
        {
          "output_type": "stream",
          "name": "stdout",
          "text": [
            "846 µs ± 60.6 µs per loop (mean ± std. dev. of 7 runs, 1000 loops each)\n"
          ]
        }
      ]
    },
    {
      "cell_type": "markdown",
      "source": [
        "# Multiple linear regression"
      ],
      "metadata": {
        "id": "Knm8c0M2fgFS"
      }
    },
    {
      "cell_type": "code",
      "source": [
        "import numpy as np\n",
        "import matplotlib.pyplot as plt"
      ],
      "metadata": {
        "id": "2WLNxrSCR-cj"
      },
      "execution_count": 4,
      "outputs": []
    },
    {
      "cell_type": "code",
      "source": [
        "X = np.array([ [1,2,3] , [3,4,5] ])\n",
        "y = np.array( [2, 5] )\n",
        "\n",
        "X = np.c_[np.ones(len(X)) , X]"
      ],
      "metadata": {
        "id": "cmXfDXfDSFjp"
      },
      "execution_count": 5,
      "outputs": []
    },
    {
      "cell_type": "code",
      "source": [
        "w = np.zeros(len(X[0]))\n",
        "alpha = 0.001\n",
        "m = len(X)\n",
        "cost = []\n",
        "\n",
        "for epoch in range(100):\n",
        "    y_hat = X.dot(w)\n",
        "    grad = (1/m) * X.T.dot(y_hat-y)\n",
        "    w -= alpha * grad\n",
        "\n",
        "    J = (1/(2*m)) * ((y_hat-y)**2).sum()\n",
        "    cost.append(J)\n",
        "\n",
        "plt.plot(cost)"
      ],
      "metadata": {
        "colab": {
          "base_uri": "https://localhost:8080/",
          "height": 447
        },
        "id": "h2YnEwZESyBC",
        "outputId": "2d7bdd3d-9697-496a-e53f-59357b83ed16"
      },
      "execution_count": 6,
      "outputs": [
        {
          "output_type": "execute_result",
          "data": {
            "text/plain": [
              "[<matplotlib.lines.Line2D at 0x7c5c3c10f0a0>]"
            ]
          },
          "metadata": {},
          "execution_count": 6
        },
        {
          "output_type": "display_data",
          "data": {
            "text/plain": [
              "<Figure size 640x480 with 1 Axes>"
            ],
            "image/png": "[encoded data removed]"
          },
          "metadata": {}
        }
      ]
    }
  ]
}